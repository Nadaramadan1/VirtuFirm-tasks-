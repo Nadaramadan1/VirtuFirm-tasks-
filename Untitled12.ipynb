{
  "nbformat": 4,
  "nbformat_minor": 0,
  "metadata": {
    "colab": {
      "provenance": [],
      "authorship_tag": "ABX9TyPj9Yl+u0GtjDlWYQ1lC1fy",
      "include_colab_link": true
    },
    "kernelspec": {
      "name": "python3",
      "display_name": "Python 3"
    },
    "language_info": {
      "name": "python"
    }
  },
  "cells": [
    {
      "cell_type": "markdown",
      "metadata": {
        "id": "view-in-github",
        "colab_type": "text"
      },
      "source": [
        "<a href=\"https://colab.research.google.com/github/Nadaramadan1/VirtuFirm-tasks-/blob/main/Untitled12.ipynb\" target=\"_parent\"><img src=\"https://colab.research.google.com/assets/colab-badge.svg\" alt=\"Open In Colab\"/></a>"
      ]
    },
    {
      "cell_type": "markdown",
      "source": [
        "# Create Dataset"
      ],
      "metadata": {
        "id": "e5BRya04Pyoz"
      }
    },
    {
      "cell_type": "code",
      "source": [
        "import pandas as pd\n",
        "import numpy as np\n",
        "\n",
        "np.random.seed(42)\n",
        "\n",
        "num_products = 50\n",
        "product_ids = [f\"P{i:03d}\" for i in range(num_products)]\n",
        "\n",
        "categories = ['Electronics', 'Apparel', 'Books', 'Home', 'Toys']\n",
        "category_choices = np.random.choice(categories, num_products)\n",
        "cost_prices = np.random.uniform(5, 100, num_products).round(2)\n",
        "\n",
        "products_df = pd.DataFrame({\n",
        "    'product_id': product_ids,\n",
        "    'category': category_choices,\n",
        "    'cost_price': cost_prices\n",
        "})\n",
        "\n",
        "products_df.to_csv('products.csv', index=False)\n"
      ],
      "metadata": {
        "id": "40ROfKpgO16g"
      },
      "execution_count": 58,
      "outputs": []
    },
    {
      "cell_type": "code",
      "source": [
        "num_customers = 100\n",
        "customer_ids = [f\"C{i:04d}\" for i in range(num_customers)]\n",
        "\n",
        "regions = ['North', 'South', 'East', 'West']\n",
        "loyalty_levels = ['Bronze', 'Silver', 'Gold', 'Platinum']\n",
        "\n",
        "customers_df = pd.DataFrame({\n",
        "    'customer_id': customer_ids,\n",
        "    'region': np.random.choice(regions, num_customers),\n",
        "    'loyalty_level': np.random.choice(loyalty_levels, num_customers)\n",
        "})\n",
        "\n",
        "customers_df.to_csv('customers.csv', index=False)\n"
      ],
      "metadata": {
        "id": "o7D3QkXJW5vR"
      },
      "execution_count": 59,
      "outputs": []
    },
    {
      "cell_type": "code",
      "source": [
        "num_sales = 500\n",
        "sale_product_ids = np.random.choice(product_ids, num_sales)\n",
        "quantities = np.random.randint(1, 10, num_sales)\n",
        "prices = np.random.uniform(10, 200, num_sales).round(2)\n",
        "customer_choices = np.random.choice(customer_ids, num_sales)\n",
        "\n",
        "dates = pd.date_range(start='2024-01-01', end='2025-07-01').to_series()\n",
        "sale_dates = np.random.choice(dates, num_sales)\n",
        "\n",
        "sales_df = pd.DataFrame({\n",
        "    'product_id': sale_product_ids,\n",
        "    'quantity': quantities,\n",
        "    'price': prices,\n",
        "    'date': sale_dates,\n",
        "    'customer_id': customer_choices\n",
        "})\n",
        "\n",
        "sales_df.to_csv('sales.csv', index=False)\n"
      ],
      "metadata": {
        "id": "LXHxIsCcW6ya"
      },
      "execution_count": 60,
      "outputs": []
    },
    {
      "cell_type": "markdown",
      "source": [
        "# Merge DataSet"
      ],
      "metadata": {
        "id": "InlFlGmqdUc9"
      }
    },
    {
      "cell_type": "code",
      "source": [
        "import pandas as pd\n",
        "import numpy as np\n",
        "\n",
        "sales = pd.read_csv('sales.csv')\n",
        "products = pd.read_csv('products.csv')\n",
        "customers = pd.read_csv('customers.csv')\n"
      ],
      "metadata": {
        "id": "Rem3QSz8W9X5"
      },
      "execution_count": 32,
      "outputs": []
    },
    {
      "cell_type": "code",
      "source": [
        "sales_products = pd.merge(sales, products, on='product_id', how='left')\n",
        "full_df = pd.merge(sales_products, customers, on='customer_id', how='left')"
      ],
      "metadata": {
        "id": "_EOL_yi1XTsY"
      },
      "execution_count": 61,
      "outputs": []
    },
    {
      "cell_type": "code",
      "source": [
        "full_df['date'] = pd.to_datetime(full_df['date'])"
      ],
      "metadata": {
        "id": "MBX_ux-JXWwB"
      },
      "execution_count": 62,
      "outputs": []
    },
    {
      "cell_type": "markdown",
      "source": [
        "# Process Dataset"
      ],
      "metadata": {
        "id": "lbb0sclHdfsJ"
      }
    },
    {
      "cell_type": "code",
      "source": [
        "missing_summary = full_df.isnull().sum()\n",
        "print(missing_summary)\n",
        "full_df.dropna(inplace=True)\n"
      ],
      "metadata": {
        "colab": {
          "base_uri": "https://localhost:8080/"
        },
        "id": "N07wHK01XZ0I",
        "outputId": "df40df42-0752-44f2-c736-f1a6c9f5d78b"
      },
      "execution_count": 63,
      "outputs": [
        {
          "output_type": "stream",
          "name": "stdout",
          "text": [
            "product_id       0\n",
            "quantity         0\n",
            "price            0\n",
            "date             0\n",
            "customer_id      0\n",
            "category         0\n",
            "cost_price       0\n",
            "region           0\n",
            "loyalty_level    0\n",
            "dtype: int64\n"
          ]
        }
      ]
    },
    {
      "cell_type": "code",
      "source": [
        "full_df['total_sale'] = full_df['quantity'] * full_df['price']\n",
        "full_df['profit'] = (full_df['price'] - full_df['cost_price']) * full_df['quantity']"
      ],
      "metadata": {
        "id": "qpFBRyX5XbpV"
      },
      "execution_count": 64,
      "outputs": []
    },
    {
      "cell_type": "code",
      "source": [
        "categorical_cols = ['category', 'region', 'loyalty_level']\n",
        "full_df = pd.get_dummies(full_df, columns=categorical_cols)"
      ],
      "metadata": {
        "id": "iv35mPUxXe4z"
      },
      "execution_count": 65,
      "outputs": []
    },
    {
      "cell_type": "markdown",
      "source": [
        "# ADD and REMOVE functions"
      ],
      "metadata": {
        "id": "AVGczSR2dmGA"
      }
    },
    {
      "cell_type": "code",
      "source": [
        "datasets = {}\n",
        "def add_dataset(name, file_path):\n",
        "    try:\n",
        "        datasets[name] = pd.read_csv(file_path)\n",
        "        print(f\"Loaded '{name}' from '{file_path}'\")\n",
        "    except Exception as e:\n",
        "        print(f\"Error loading '{file_path}': {e}\")\n",
        "\n",
        "def remove_dataset(name):\n",
        "    if name in datasets:\n",
        "        del datasets[name]\n",
        "        print(f\"Removed '{name}' dataset.\")\n",
        "    else:\n",
        "        print(f\"Dataset '{name}' not found.\")\n",
        "\n",
        "def list_datasets():\n",
        "    for name in datasets:\n",
        "        print(f\"{name}: {datasets[name].shape[0]} rows, {datasets[name].shape[1]} columns\")\n"
      ],
      "metadata": {
        "id": "TvmUQ8yjdHfq"
      },
      "execution_count": 68,
      "outputs": []
    },
    {
      "cell_type": "markdown",
      "source": [
        "# Analyze Top_Selling products"
      ],
      "metadata": {
        "id": "B8VmFkO5dwB2"
      }
    },
    {
      "cell_type": "code",
      "source": [
        "top_revenue = full_df.groupby('product_id')['total_sale'].sum().sort_values(ascending=False)\n",
        "print(top_revenue.head(10))\n"
      ],
      "metadata": {
        "colab": {
          "base_uri": "https://localhost:8080/"
        },
        "id": "E4UCjc1BX_Gp",
        "outputId": "b79ad765-ee20-4774-b1fc-cc00358fe66b"
      },
      "execution_count": 50,
      "outputs": [
        {
          "output_type": "stream",
          "name": "stdout",
          "text": [
            "product_id\n",
            "P034    11322.67\n",
            "P032    11033.56\n",
            "P027    10155.10\n",
            "P015     9161.39\n",
            "P048     8561.69\n",
            "P031     8294.15\n",
            "P024     7656.03\n",
            "P040     7597.27\n",
            "P019     7170.94\n",
            "P044     6974.34\n",
            "Name: total_sale, dtype: float64\n"
          ]
        }
      ]
    },
    {
      "cell_type": "code",
      "source": [
        "top_quantity = full_df.groupby('product_id')['quantity'].sum().sort_values(ascending=False)\n",
        "print(top_quantity.head(10))\n"
      ],
      "metadata": {
        "colab": {
          "base_uri": "https://localhost:8080/"
        },
        "id": "bACubMmpYhDS",
        "outputId": "7cd25de2-ac75-4657-c6ab-8813fe4f998d"
      },
      "execution_count": 51,
      "outputs": [
        {
          "output_type": "stream",
          "name": "stdout",
          "text": [
            "product_id\n",
            "P034    90\n",
            "P015    85\n",
            "P032    85\n",
            "P048    81\n",
            "P027    75\n",
            "P046    72\n",
            "P024    69\n",
            "P044    68\n",
            "P031    64\n",
            "P036    64\n",
            "Name: quantity, dtype: int64\n"
          ]
        }
      ]
    },
    {
      "cell_type": "code",
      "source": [
        "top_profit = full_df.groupby('product_id')['profit'].sum().sort_values(ascending=False)\n",
        "print(top_profit.head(10))\n"
      ],
      "metadata": {
        "colab": {
          "base_uri": "https://localhost:8080/"
        },
        "id": "ZFrM9EYaYlFZ",
        "outputId": "750d4b9b-a237-4f58-b9b1-048c4d96289a"
      },
      "execution_count": 52,
      "outputs": [
        {
          "output_type": "stream",
          "name": "stdout",
          "text": [
            "product_id\n",
            "P034    10752.07\n",
            "P027     7813.60\n",
            "P032     7420.21\n",
            "P011     6464.83\n",
            "P044     6018.26\n",
            "P004     5536.05\n",
            "P031     5400.07\n",
            "P035     4430.54\n",
            "P040     4187.92\n",
            "P000     4145.47\n",
            "Name: profit, dtype: float64\n"
          ]
        }
      ]
    },
    {
      "cell_type": "code",
      "metadata": {
        "colab": {
          "base_uri": "https://localhost:8080/",
          "height": 585
        },
        "id": "240cd425",
        "outputId": "3f0c198b-0f35-4708-cfdc-b7e70b7e973e"
      },
      "source": [
        "summary_df = pd.DataFrame({\n",
        "    'Top Revenue': top_revenue.head(10),\n",
        "    'Top Quantity': top_quantity.head(10),\n",
        "    'Top Profit': top_profit.head(10)\n",
        "}).fillna(0)\n",
        "\n",
        "top_5 = summary_df.head(10)\n",
        "top_5.plot(kind='bar', figsize=(10,6), title='Top 5 Products Analysis')\n",
        "plt.ylabel('Metric Value')\n",
        "plt.xlabel('Product ID')\n",
        "plt.grid(True)\n",
        "plt.show()"
      ],
      "execution_count": 69,
      "outputs": [
        {
          "output_type": "display_data",
          "data": {
            "text/plain": [
              "<Figure size 1000x600 with 1 Axes>"
            ],
            "image/png": "[encoded data removed]"
          },
          "metadata": {}
        }
      ]
    },
    {
      "cell_type": "markdown",
      "source": [
        "# Computing Computer Metrics"
      ],
      "metadata": {
        "id": "7OQp4GLVeELB"
      }
    },
    {
      "cell_type": "code",
      "source": [
        "revenue_region = full_df.groupby('region_East')['total_sale'].sum().sort_values(ascending=False)\n",
        "print(revenue_region)"
      ],
      "metadata": {
        "colab": {
          "base_uri": "https://localhost:8080/"
        },
        "id": "SnZw5h0VZI2d",
        "outputId": "9255efcb-184a-42c0-e348-70be2d28b0a6"
      },
      "execution_count": 54,
      "outputs": [
        {
          "output_type": "stream",
          "name": "stdout",
          "text": [
            "region_East\n",
            "False    179640.66\n",
            "True      82156.47\n",
            "Name: total_sale, dtype: float64\n"
          ]
        }
      ]
    },
    {
      "cell_type": "code",
      "source": [
        "customer_sales_metrics = full_df.groupby('customer_id').agg({\n",
        "    'quantity': 'sum',\n",
        "    'total_sale': ['sum', 'mean'],\n",
        "    'profit': 'sum'\n",
        "})\n",
        "\n",
        "customer_sales_metrics.columns = ['_'.join(col).strip() for col in customer_sales_metrics.columns.values]\n",
        "customer_sales_metrics.rename(columns={'quantity_sum': 'quantity'}, inplace=True)\n",
        "customer_sales_metrics.rename(columns={'profit_sum': 'profit'}, inplace=True)\n",
        "\n",
        "loyalty_sales_metrics = customers.merge(customer_sales_metrics, on='customer_id', how='left').fillna(0)\n",
        "\n",
        "loyalty_metrics = loyalty_sales_metrics.groupby('loyalty_level').agg({\n",
        "    'quantity': 'sum',\n",
        "    'total_sale_sum': 'sum',\n",
        "    'total_sale_mean': 'mean',\n",
        "    'profit': 'sum'\n",
        "})\n",
        "\n",
        "loyalty_metrics = loyalty_metrics.merge(customers.groupby('loyalty_level').size().to_frame(name='customer_count'), left_index=True, right_index=True)\n",
        "\n",
        "\n",
        "print(loyalty_metrics)"
      ],
      "metadata": {
        "colab": {
          "base_uri": "https://localhost:8080/"
        },
        "id": "2_TCPxV0ZVyi",
        "outputId": "d808c2db-faaf-4b1a-951c-66f772912153"
      },
      "execution_count": 66,
      "outputs": [
        {
          "output_type": "stream",
          "name": "stdout",
          "text": [
            "               quantity  total_sale_sum  total_sale_mean    profit  \\\n",
            "loyalty_level                                                        \n",
            "Bronze            561.0        59094.01       530.714752  27313.65   \n",
            "Gold              625.0        68920.45       522.770014  37149.12   \n",
            "Platinum          739.0        79454.47       458.986521  41974.78   \n",
            "Silver            523.0        54328.20       538.016148  26839.31   \n",
            "\n",
            "               customer_count  \n",
            "loyalty_level                  \n",
            "Bronze                     21  \n",
            "Gold                       26  \n",
            "Platinum                   31  \n",
            "Silver                     22  \n"
          ]
        }
      ]
    },
    {
      "cell_type": "code",
      "source": [
        "customer_loyalty = full_df.groupby('customer_id').agg({\n",
        "    'total_sale': 'sum',\n",
        "    'quantity': 'sum',\n",
        "    'profit': 'sum',\n",
        "}).sort_values('total_sale', ascending=False)\n",
        "\n",
        "customer_loyalty = customer_loyalty.merge(customers[['customer_id', 'loyalty_level', 'region']], on='customer_id', how='left')\n",
        "\n",
        "\n",
        "print(\"Top 10 Loyal Customers by Revenue:\")\n",
        "print(customer_loyalty.head(10))"
      ],
      "metadata": {
        "colab": {
          "base_uri": "https://localhost:8080/"
        },
        "id": "9rcdswyCZwsr",
        "outputId": "b90a74f1-b915-4dc3-ccf1-35f4d9954f6c"
      },
      "execution_count": 67,
      "outputs": [
        {
          "output_type": "stream",
          "name": "stdout",
          "text": [
            "Top 10 Loyal Customers by Revenue:\n",
            "  customer_id  total_sale  quantity   profit loyalty_level region\n",
            "0       C0035     6990.24        60  4331.13      Platinum  North\n",
            "1       C0020     6941.79        59  4484.74          Gold   West\n",
            "2       C0067     6169.81        51  3713.93          Gold   East\n",
            "3       C0015     5942.25        39  3453.93        Bronze  North\n",
            "4       C0059     5812.64        47  2508.26        Bronze  South\n",
            "5       C0029     5282.30        42  3185.73      Platinum   West\n",
            "6       C0061     5000.12        35  3500.74      Platinum   East\n",
            "7       C0007     4981.24        40  3464.80        Silver  North\n",
            "8       C0014     4823.34        56  1434.47          Gold   East\n",
            "9       C0043     4776.10        44  2217.95      Platinum   East\n"
          ]
        }
      ]
    }
  ]
}